{
 "cells": [
  {
   "cell_type": "code",
   "execution_count": 1,
   "metadata": {},
   "outputs": [],
   "source": [
    "import gzip\n",
    "from itertools import islice"
   ]
  },
  {
   "cell_type": "markdown",
   "metadata": {},
   "source": [
    "# Formats de fichiers"
   ]
  },
  {
   "cell_type": "markdown",
   "metadata": {},
   "source": [
    "## FASTA\n",
    "\n",
    "Le fichier FASTA contient des séquences identifiées et annotés brièvement par une description.\n",
    "\n",
    "```\n",
    ">ID DESCRIPTION\n",
    "SEQUENCE\n",
    "```"
   ]
  },
  {
   "cell_type": "code",
   "execution_count": 2,
   "metadata": {},
   "outputs": [
    {
     "name": "stdout",
     "output_type": "stream",
     "text": [
      ">NM_001025782.2 Caenorhabditis elegans Phosphatidylinositol 3-kinase catalytic subunit type 3 (vps-34), partial mRNA\n",
      "\n",
      "ATGCGAGTCTCCACGTCAGTCAACGGTGGTGTTGGGATTGTTTCGGCCTGTACCCGTTACTGTGTAGCTGATCCTGAACT\n",
      "\n"
     ]
    }
   ],
   "source": [
    "with gzip.open('GCF_000002985.6_WBcel235_rna.fna.gz', 'rt') as f:\n",
    "    print(f.readline())\n",
    "    print(f.readline())"
   ]
  },
  {
   "cell_type": "code",
   "execution_count": 3,
   "metadata": {},
   "outputs": [],
   "source": [
    "def read_fasta(path):\n",
    "    with gzip.open(path, 'rt') as f:\n",
    "        accession, description, seq = None, None, None\n",
    "        for line in f:\n",
    "            if line[0] == '>':\n",
    "                # yield current record\n",
    "                if accession is not None:\n",
    "                    yield accession, description, seq\n",
    "                    \n",
    "                # start a new record\n",
    "                accession, description = line[1:].rstrip().split(maxsplit=1)\n",
    "                seq = ''\n",
    "            else:\n",
    "                seq += line.rstrip()"
   ]
  },
  {
   "cell_type": "code",
   "execution_count": 4,
   "metadata": {},
   "outputs": [
    {
     "data": {
      "text/plain": [
       "('NM_001025782.2',\n",
       " 'Caenorhabditis elegans Phosphatidylinositol 3-kinase catalytic subunit type 3 (vps-34), partial mRNA',\n",
       " 'ATGCGAGTCTCCACGTCAGTCAACGGTGGTGTTGGGATTGTTTCGGCCTGTACCCGTTACTGTGTAGCTGATCCTGAACTTCTTCTAGAATCTCTGGCGGAAGTTAAACACAGTGCAATGACACGTCGAATCAGAGATGTTGAAGATGAGAGACATCGACAAGTAAAACCGAATAAACAAGCAAAGGATCGATTGGAGACTATTGTGAATCTTCCATCATCTCAAGTTCTTACAAGAGAACAAAGAGATTTAGTATGGAAATTCAGGCATTATTTAAGACAATTTCCAAAAGCTTTGAACAAATATCTACGATCAGTTAATTGGGTTCATCCACAAGAAGTAAAAACTGCATTAGCTCTGATGAATGATTGGGAGCTGATTGAAGCTGAAGATGCATTAGAATTACTTTCAAGTGCATTCACTCATCCGGCAGTTCGTGCATATTCTGTATCCCGTCTTCTAGAAGCTGCTTCTCCTGAGCAAGTCCTCCTATATCTTCCACAATTGGTTCAAGCTTTGAAATACGAACAAGGTCAACAACTGCCTGAAGAAGGAAATCCAGTGCCGGTGGTTTCTGAAGAAGAGGGAAAGATCCCATCAGTTGCAACTACGCCAACTGAAGAGCTAGAAGGACGAGATATGACAGTGGTTACGAAGAAAGAGGCTAGAAAGGCGGCTAGTGGAGATTTGGCCACCTTCCTGATTGACTATGCTCTTGCATCTCCAAAAGTATCCAACTATCTCTACTGGCATCTAAAAACTGAAATTGAATCAACAAAAGAAAGTAAAGAAGAACACTCGAAAATGTATCAAAATATCCAGGATAGATTGATGGAAGCACTTGTAAAGAGACCTGATACCCGTGCACAAGTTGATTCACTTCATCAGCAACAAATTTTTGTGGAAGATCTTATTATTCTGATGAATGAGGCAAAAGCTCGTGGTGGTCGTTTGAATGAGTCAAAATCTGCAGAATTCCGAACTATGCTCTCTCGAGCCAAACATATGTTAGATCTTAAAGGAGTCCATCTTCCACTTGATCCAAGTTTCCGTTTATCATCAGTTATTCCTGATACAGCATCATTTTTCAAAAGTGAGATGATGCCTGCGAAGATATCATTCAAAGTTCTTCAGCCGAATGGAAAAGCTGATAGAAATATTCCAGAAGAATATACAGTTATATTTAAGACTGGAGATGATTTACGGCAAGATCAGCTGATTCAGCAAATGGTTCGACTTATTGATATTATTCTCAAAAAGGGACAATTGGATTTGAAGTTGACACCTTATTTGGTTCTCTCCACAGGTGTCGGTCAAGGATTTGTCCAATGCATAAAATCAAAACCATTGAGAGCAATTCAAGAACAATACAAAGCACATAAAATGGATTGTATTCGTGAAGCAATGAAAGAACTTCGTCCAGGAGATGGACCATTTGGTATTGAACCAAATGTAATCGATAATTATGTCCGTTCACTTGCTGGTTATTCAGTTATTATGTATATTCTGGGTCTTGGTGATCGTCATCTTGACAATCTTCTTCTTTGTGAGAATGGAAAACTATTCCACGTGGATTTTGGTTTCATCCTCGGACGGGATCCCAAACCAATGCCACCACCAATGAAATTAACCAGTGAAATGGTACAAGTGATGGGAGGTGTGAAGAGCAAACAATTTTTGGAATTTGTGCAGCATGTCGATTCTGCCTACCGGATTTTGAGACGACACTCGAATGTTCTTTTGAACTTGTTCTCACTTATGTTAGACGCTGGAATTCCTGATATTGCTGCTGAGCCGGATAAGGCTATTTTCAAGATCGAACAACGCCTCCGCCTGGATCTGTCGGATGAAGCAGCTACCAAACACATTTTCACTCAAATCGAGTCGAGTCTCAATGCAAAAATGGCTATGATTTCTGATATTATTCACGCATACAAACAGAATTTGATGTGA')"
      ]
     },
     "execution_count": 4,
     "metadata": {},
     "output_type": "execute_result"
    }
   ],
   "source": [
    "next(read_fasta('GCF_000002985.6_WBcel235_rna.fna.gz'))"
   ]
  },
  {
   "cell_type": "markdown",
   "metadata": {},
   "source": [
    "## FASTQ\n",
    "\n",
    "Le format FASTQ contient des fragments annotés avec une qualité pour chaque symboles lus par le système de séquençage.\n",
    "\n",
    "```\n",
    "@SEQID DESCRIPTION\n",
    "SEQUENCE\n",
    "+\n",
    "QUALITY\n",
    "```"
   ]
  },
  {
   "cell_type": "code",
   "execution_count": 5,
   "metadata": {},
   "outputs": [
    {
     "name": "stdout",
     "output_type": "stream",
     "text": [
      "@VOGKRUTI 1:11:1\n",
      "\n",
      "ACTCGATTTACTTGTACTGGAACGAGTTGCCAGTTGAGAGCGCATTCCCAGTGAGAGCCCGATCGTCTGCCGAAGACTTGCCGACAACTTCTCGCGCTGT\n",
      "\n",
      "+\n",
      "\n",
      "~~~~~~~~~~~~~~~~~~~~~~~~~~~~~~~~~~~~~~~~~~~~~~~~~~~~~~~~~~~~~~~~~~~~~~~~~~~~~~~~~~~~~~~~~~~~~~~~~~~~\n",
      "\n"
     ]
    }
   ],
   "source": [
    "with gzip.open('reads.fastq.gz', 'rt') as f:\n",
    "    print(f.readline())\n",
    "    print(f.readline())\n",
    "    print(f.readline())\n",
    "    print(f.readline())"
   ]
  },
  {
   "cell_type": "code",
   "execution_count": 6,
   "metadata": {},
   "outputs": [],
   "source": [
    "def read_fastq(path):\n",
    "    with gzip.open(path, 'rt') as f:\n",
    "        seqid, description = f.readline()[1:].rstrip().split(maxsplit=1)\n",
    "        sequence = f.readline().rstrip()\n",
    "        _ = f.readline()\n",
    "        quality = f.readline().rstrip()\n",
    "        yield seqid, description, sequence, quality"
   ]
  },
  {
   "cell_type": "code",
   "execution_count": 7,
   "metadata": {},
   "outputs": [
    {
     "data": {
      "text/plain": [
       "('VOGKRUTI',\n",
       " '1:11:1',\n",
       " 'ACTCGATTTACTTGTACTGGAACGAGTTGCCAGTTGAGAGCGCATTCCCAGTGAGAGCCCGATCGTCTGCCGAAGACTTGCCGACAACTTCTCGCGCTGT',\n",
       " '~~~~~~~~~~~~~~~~~~~~~~~~~~~~~~~~~~~~~~~~~~~~~~~~~~~~~~~~~~~~~~~~~~~~~~~~~~~~~~~~~~~~~~~~~~~~~~~~~~~~')"
      ]
     },
     "execution_count": 7,
     "metadata": {},
     "output_type": "execute_result"
    }
   ],
   "source": [
    "next(read_fastq('reads.fastq.gz'))"
   ]
  },
  {
   "cell_type": "markdown",
   "metadata": {},
   "source": [
    "## BED\n",
    "\n",
    "Le format BED est un format tabulaire de 3 à 12 colonnes qui contient des annotations de sous-séquences.\n",
    "\n",
    "```\n",
    "reference    start    end    name\n",
    "```\n",
    "\n",
    "Dans ce TP, nous utiliserons seulement les 4 premières colonnes pour identifier la référence, une paire de coordonnées `(début, fin)` et l'identifiant du contig assemblé depuis notre graphe de Brujin."
   ]
  },
  {
   "cell_type": "code",
   "execution_count": 8,
   "metadata": {},
   "outputs": [],
   "source": [
    "def read_bed(path):\n",
    "    with open(path) as f:\n",
    "        ref, start, end, name = f.readline().rstrip().split('\\t')\n",
    "        yield ref, int(start) - 1, int(end), name"
   ]
  },
  {
   "cell_type": "code",
   "execution_count": 9,
   "metadata": {},
   "outputs": [
    {
     "data": {
      "text/plain": [
       "('NM_001025782.2', 1760, 1860, 'GBYXDORA')"
      ]
     },
     "execution_count": 9,
     "metadata": {},
     "output_type": "execute_result"
    }
   ],
   "source": [
    "next(read_bed('example.bed'))"
   ]
  },
  {
   "cell_type": "markdown",
   "metadata": {},
   "source": [
    "# Notions de base et algorithmes"
   ]
  },
  {
   "cell_type": "code",
   "execution_count": 10,
   "metadata": {},
   "outputs": [],
   "source": [
    "seq = next(read_fasta('GCF_000002985.6_WBcel235_rna.fna.gz'))[2]\n",
    "l = len(seq)"
   ]
  },
  {
   "cell_type": "markdown",
   "metadata": {},
   "source": [
    "# $k$-mer\n",
    "\n",
    "Sous-séquence de longueur $k$. Une chaîne de longueur $l$ possède $l - k + 1$ $k$-mers."
   ]
  },
  {
   "cell_type": "code",
   "execution_count": 11,
   "metadata": {},
   "outputs": [],
   "source": [
    "k = 21\n",
    "kmers = [seq[i:i+k] for i in range(l - k + 1)]"
   ]
  },
  {
   "cell_type": "code",
   "execution_count": 12,
   "metadata": {},
   "outputs": [
    {
     "name": "stdout",
     "output_type": "stream",
     "text": [
      "ATGCGAGTCTCCACGTCAGTC\n",
      " TGCGAGTCTCCACGTCAGTCA\n",
      "  GCGAGTCTCCACGTCAGTCAA\n",
      "   CGAGTCTCCACGTCAGTCAAC\n",
      "    GAGTCTCCACGTCAGTCAACG\n",
      "     AGTCTCCACGTCAGTCAACGG\n",
      "      GTCTCCACGTCAGTCAACGGT\n",
      "       TCTCCACGTCAGTCAACGGTG\n",
      "        CTCCACGTCAGTCAACGGTGG\n",
      "         TCCACGTCAGTCAACGGTGGT\n"
     ]
    }
   ],
   "source": [
    "for i, km in enumerate(kmers[:10]):\n",
    "    print((i * ' ') + km)"
   ]
  },
  {
   "cell_type": "markdown",
   "metadata": {},
   "source": [
    "# Graphe de Brujin\n",
    "\n",
    "Les sommets sont les $k$-mers et les arcs sont les transition sur un symbole de l'aphabet."
   ]
  },
  {
   "cell_type": "code",
   "execution_count": 13,
   "metadata": {},
   "outputs": [
    {
     "name": "stdout",
     "output_type": "stream",
     "text": [
      "TGCGAGT GCGAGTC transition on C\n",
      "CGAGTCT GAGTCTC transition on C\n",
      "CTCCACG TCCACGT transition on T\n",
      "ATGCGAG TGCGAGT transition on T\n",
      "GAGTCTC AGTCTCC transition on C\n",
      "TCTCCAC CTCCACG transition on G\n",
      "GTCTCCA TCTCCAC transition on C\n",
      "AGTCTCC GTCTCCA transition on A\n",
      "GCGAGTC CGAGTCT transition on T\n"
     ]
    }
   ],
   "source": [
    "k = 7\n",
    "kmers = [seq[i:i+k] for i in range(l - k + 1)]\n",
    "\n",
    "def edges(kmers_graph):\n",
    "    for k in kmers_graph:\n",
    "        for s in 'ATCG':\n",
    "            successor = k[1:] + s\n",
    "            if successor in kmers_graph:\n",
    "                yield k, successor\n",
    "                \n",
    "for v1, v2 in islice(edges(set(kmers[:10])), 10):\n",
    "    print(v1, v2, 'transition on {}'.format(v2[-1]))"
   ]
  },
  {
   "cell_type": "code",
   "execution_count": 14,
   "metadata": {},
   "outputs": [
    {
     "data": {
      "image/png": "[encoded data removed]",
      "text/plain": [
       "<Figure size 1152x576 with 1 Axes>"
      ]
     },
     "metadata": {},
     "output_type": "display_data"
    }
   ],
   "source": [
    "import networkx as nx\n",
    "%matplotlib inline\n",
    "import matplotlib.pyplot as plt\n",
    "\n",
    "k = 5\n",
    "kmers = [seq[i:i+k] for i in range(l - k + 1)]\n",
    "\n",
    "plt.figure(figsize=(16,8))\n",
    "g = nx.DiGraph()\n",
    "g.add_nodes_from(set(kmers[:20]))\n",
    "g.add_edges_from((u, v, {'label': v[-1]}) for u, v in edges(set(kmers[:20])))\n",
    "nx.draw(g, pos=nx.drawing.nx_agraph.graphviz_layout(g), with_labels=True, node_size=3000)\n",
    "nx.draw_networkx_edge_labels(g, pos=nx.drawing.nx_agraph.graphviz_layout(g), edge_labels=nx.get_edge_attributes(g, 'label'))\n",
    "plt.show()"
   ]
  },
  {
   "cell_type": "markdown",
   "metadata": {},
   "source": [
    "# $k$-mer walk\n",
    "\n",
    "Lorsque vous traverserez votre graphe, vous devrez adapter cette technique puisqu'il pourra exister plusieurs candidats potentiels et il sera également possible de revenir sur ses pas (i.e. une boucle)."
   ]
  },
  {
   "cell_type": "code",
   "execution_count": 15,
   "metadata": {},
   "outputs": [],
   "source": [
    "def kmer_walk(kmer_graph, start):\n",
    "    k = start\n",
    "    \n",
    "    # yield the starting node\n",
    "    yield k\n",
    "    \n",
    "    while True:\n",
    "        for symbol in ['A', 'T', 'C', 'G']:\n",
    "            candidate = k[1:] + symbol\n",
    "            if candidate in kmer_graph:\n",
    "                k = candidate\n",
    "                yield k\n",
    "                break\n",
    "        else:\n",
    "            break # break the while-loop if no more candidate is found"
   ]
  },
  {
   "cell_type": "code",
   "execution_count": 16,
   "metadata": {},
   "outputs": [
    {
     "name": "stdout",
     "output_type": "stream",
     "text": [
      "GATGCATTAGAATTACTTTCA\n",
      " ATGCATTAGAATTACTTTCAA\n",
      "  TGCATTAGAATTACTTTCAAG\n",
      "   GCATTAGAATTACTTTCAAGT\n",
      "    CATTAGAATTACTTTCAAGTG\n",
      "     ATTAGAATTACTTTCAAGTGC\n",
      "      TTAGAATTACTTTCAAGTGCA\n",
      "       TAGAATTACTTTCAAGTGCAT\n",
      "        AGAATTACTTTCAAGTGCATT\n",
      "         GAATTACTTTCAAGTGCATTC\n",
      "          AATTACTTTCAAGTGCATTCA\n",
      "           ATTACTTTCAAGTGCATTCAC\n",
      "            TTACTTTCAAGTGCATTCACT\n",
      "             TACTTTCAAGTGCATTCACTC\n",
      "              ACTTTCAAGTGCATTCACTCA\n",
      "               CTTTCAAGTGCATTCACTCAT\n",
      "                TTTCAAGTGCATTCACTCATC\n",
      "                 TTCAAGTGCATTCACTCATCC\n",
      "                  TCAAGTGCATTCACTCATCCG\n",
      "                   CAAGTGCATTCACTCATCCGG\n",
      "GATGCATTAGAATTACTTTCAAGTGCATTCACTCATCCGG\n"
     ]
    }
   ],
   "source": [
    "k = 21\n",
    "kmers = [seq[i:i+k] for i in range(l - k + 1)]\n",
    "\n",
    "kmer_graph = set(kmers)\n",
    "contig = None\n",
    "\n",
    "for k in islice(kmer_walk(kmer_graph, start='GATGCATTAGAATTACTTTCA'), 20):\n",
    "    if contig is None:\n",
    "        contig = k\n",
    "    else:\n",
    "        contig += k[-1]\n",
    "    print(((len(contig) - len(k)) * ' ') + k)\n",
    "print(contig)"
   ]
  },
  {
   "cell_type": "markdown",
   "metadata": {},
   "source": [
    "# Exemple de cycle\n",
    "\n",
    "La solution générale pour un cycle est de mémoriser les endroits déjà visité du graphe et d'interrompre le parcours."
   ]
  },
  {
   "cell_type": "code",
   "execution_count": 17,
   "metadata": {},
   "outputs": [
    {
     "name": "stdout",
     "output_type": "stream",
     "text": [
      "GATGCA \n",
      " ATGCAA \n",
      "  TGCAAA \n",
      "   GCAAAA \n",
      "    CAAAAA \n",
      "     AAAAAT \n",
      "      AAAATA \n",
      "       AAATAT \n",
      "        AATATA \n",
      "         ATATAC \n",
      "          TATACA \n",
      "           ATACAA \n",
      "            TACAAA \n",
      "             ACAAAA \n",
      "              CAAAAA already visited!\n",
      "GATGCAAAAATATACAAAAA\n"
     ]
    }
   ],
   "source": [
    "k = 6\n",
    "kmers = [seq[i:i+k] for i in range(l - k + 1)]\n",
    "\n",
    "contig = None\n",
    "closed = set()\n",
    "\n",
    "for k in islice(kmer_walk(kmers, start='GATGCA'), 40):\n",
    "    if contig is None:\n",
    "        contig = k\n",
    "    else:\n",
    "        contig += k[-1]\n",
    "        \n",
    "    print(((len(contig) - len(k)) * ' ') + k, 'already visited!' if k in closed else '')\n",
    "        \n",
    "    if k in closed:\n",
    "        break # stop traversal on repeat\n",
    "    else:\n",
    "        closed.add(k)\n",
    "\n",
    "print(contig)"
   ]
  },
  {
   "cell_type": "markdown",
   "metadata": {},
   "source": [
    "# Produire des identifiants aléatoires"
   ]
  },
  {
   "cell_type": "code",
   "execution_count": 18,
   "metadata": {},
   "outputs": [
    {
     "data": {
      "text/plain": [
       "'BCKCXANIWE'"
      ]
     },
     "execution_count": 18,
     "metadata": {},
     "output_type": "execute_result"
    }
   ],
   "source": [
    "# Identifiant aléatoire\n",
    "import random\n",
    "import string\n",
    "random.seed(123) # recommendé pour des résultats reproduisibles!\n",
    "''.join(random.choices(string.ascii_uppercase, k=10))"
   ]
  }
 ],
 "metadata": {
  "kernelspec": {
   "display_name": "Python 3",
   "language": "python",
   "name": "python3"
  },
  "language_info": {
   "codemirror_mode": {
    "name": "ipython",
    "version": 3
   },
   "file_extension": ".py",
   "mimetype": "text/x-python",
   "name": "python",
   "nbconvert_exporter": "python",
   "pygments_lexer": "ipython3",
   "version": "3.7.1"
  }
 },
 "nbformat": 4,
 "nbformat_minor": 2
}
